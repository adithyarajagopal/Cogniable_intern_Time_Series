{
  "nbformat": 4,
  "nbformat_minor": 0,
  "metadata": {
    "colab": {
      "name": "Copy of Cogniable_Multivariate.ipynb",
      "provenance": [],
      "toc_visible": true,
      "include_colab_link": true
    },
    "kernelspec": {
      "name": "python3",
      "display_name": "Python 3"
    }
  },
  "cells": [
    {
      "cell_type": "markdown",
      "metadata": {
        "id": "view-in-github",
        "colab_type": "text"
      },
      "source": [
        "<a href=\"https://colab.research.google.com/github/adithyarajagopal/Cogniable_intern_Time_Series/blob/main/Copy_of_Cogniable_Multivariate.ipynb\" target=\"_parent\"><img src=\"https://colab.research.google.com/assets/colab-badge.svg\" alt=\"Open In Colab\"/></a>"
      ]
    },
    {
      "cell_type": "code",
      "metadata": {
        "id": "6n798Whkkrf2"
      },
      "source": [
        "import numpy as np\n",
        "import keras\n",
        "from keras.preprocessing.sequence import TimeseriesGenerator\n",
        "from keras.models import Sequential\n",
        "from keras.layers import Dense,LSTM,Dropout,TimeDistributed,Bidirectional,GRU\n",
        "from keras.callbacks import History\n",
        "import matplotlib.pyplot as plt\n",
        "from keras.regularizers import L1L2"
      ],
      "execution_count": null,
      "outputs": []
    },
    {
      "cell_type": "code",
      "metadata": {
        "colab": {
          "base_uri": "https://localhost:8080/",
          "height": 403
        },
        "id": "8YXH8HDZWZ3y",
        "outputId": "c6cb72cf-acfa-400b-c7e0-34c0b7e846af"
      },
      "source": [
        "import pandas  as pd\n",
        "xls = pd.ExcelFile(\"/content/target_code.xlsx\")\n",
        "print(xls.sheet_names)\n",
        "df = xls.parse(\"Natasha\")\n",
        "df.head()"
      ],
      "execution_count": null,
      "outputs": [
        {
          "output_type": "stream",
          "text": [
            "['Natasha', 'Vince', 'Prabal', 'Sadat', 'Vidhyutkrishna', 'Galdamez', 'Adriano', 'Eric']\n"
          ],
          "name": "stdout"
        },
        {
          "output_type": "execute_result",
          "data": {
            "text/html": [
              "<div>\n",
              "<style scoped>\n",
              "    .dataframe tbody tr th:only-of-type {\n",
              "        vertical-align: middle;\n",
              "    }\n",
              "\n",
              "    .dataframe tbody tr th {\n",
              "        vertical-align: top;\n",
              "    }\n",
              "\n",
              "    .dataframe thead th {\n",
              "        text-align: right;\n",
              "    }\n",
              "</style>\n",
              "<table border=\"1\" class=\"dataframe\">\n",
              "  <thead>\n",
              "    <tr style=\"text-align: right;\">\n",
              "      <th></th>\n",
              "      <th>Code</th>\n",
              "      <th>Date</th>\n",
              "      <th>Unnamed: 2</th>\n",
              "      <th>age(months)</th>\n",
              "      <th>gender(0-male,1-female)</th>\n",
              "      <th>vineland score</th>\n",
              "      <th>subdomain1 score</th>\n",
              "      <th>subdomain2 score</th>\n",
              "      <th>subdomain3 score</th>\n",
              "      <th>Target area code 1</th>\n",
              "      <th>Target area code 1 score</th>\n",
              "      <th>Target area code 2 score</th>\n",
              "      <th>days to mastery target area code 1</th>\n",
              "      <th>days to mastery target area code 1.1</th>\n",
              "    </tr>\n",
              "  </thead>\n",
              "  <tbody>\n",
              "    <tr>\n",
              "      <th>0</th>\n",
              "      <td>11.100030</td>\n",
              "      <td>2020-08-19</td>\n",
              "      <td>NaN</td>\n",
              "      <td>79</td>\n",
              "      <td>1</td>\n",
              "      <td>0</td>\n",
              "      <td>10</td>\n",
              "      <td>9</td>\n",
              "      <td>NaN</td>\n",
              "      <td>11.10</td>\n",
              "      <td>NaN</td>\n",
              "      <td>NaN</td>\n",
              "      <td>NaN</td>\n",
              "      <td>NaN</td>\n",
              "    </tr>\n",
              "    <tr>\n",
              "      <th>1</th>\n",
              "      <td>1.100400</td>\n",
              "      <td>2020-08-19</td>\n",
              "      <td>NaN</td>\n",
              "      <td>79</td>\n",
              "      <td>1</td>\n",
              "      <td>0</td>\n",
              "      <td>22</td>\n",
              "      <td>20</td>\n",
              "      <td>NaN</td>\n",
              "      <td>1.10</td>\n",
              "      <td>NaN</td>\n",
              "      <td>NaN</td>\n",
              "      <td>NaN</td>\n",
              "      <td>NaN</td>\n",
              "    </tr>\n",
              "    <tr>\n",
              "      <th>2</th>\n",
              "      <td>1.100400</td>\n",
              "      <td>2020-08-19</td>\n",
              "      <td>NaN</td>\n",
              "      <td>79</td>\n",
              "      <td>1</td>\n",
              "      <td>0</td>\n",
              "      <td>22</td>\n",
              "      <td>20</td>\n",
              "      <td>NaN</td>\n",
              "      <td>1.10</td>\n",
              "      <td>NaN</td>\n",
              "      <td>NaN</td>\n",
              "      <td>NaN</td>\n",
              "      <td>NaN</td>\n",
              "    </tr>\n",
              "    <tr>\n",
              "      <th>3</th>\n",
              "      <td>6.130005</td>\n",
              "      <td>2020-08-19</td>\n",
              "      <td>NaN</td>\n",
              "      <td>79</td>\n",
              "      <td>1</td>\n",
              "      <td>0</td>\n",
              "      <td>22</td>\n",
              "      <td>20</td>\n",
              "      <td>NaN</td>\n",
              "      <td>6.11</td>\n",
              "      <td>NaN</td>\n",
              "      <td>NaN</td>\n",
              "      <td>NaN</td>\n",
              "      <td>NaN</td>\n",
              "    </tr>\n",
              "    <tr>\n",
              "      <th>4</th>\n",
              "      <td>5.900100</td>\n",
              "      <td>2020-08-24</td>\n",
              "      <td>NaN</td>\n",
              "      <td>79</td>\n",
              "      <td>1</td>\n",
              "      <td>0</td>\n",
              "      <td>16</td>\n",
              "      <td>14</td>\n",
              "      <td>NaN</td>\n",
              "      <td>5.10</td>\n",
              "      <td>NaN</td>\n",
              "      <td>NaN</td>\n",
              "      <td>NaN</td>\n",
              "      <td>NaN</td>\n",
              "    </tr>\n",
              "  </tbody>\n",
              "</table>\n",
              "</div>"
            ],
            "text/plain": [
              "        Code  ... days to mastery target area code 1.1\n",
              "0  11.100030  ...                                  NaN\n",
              "1   1.100400  ...                                  NaN\n",
              "2   1.100400  ...                                  NaN\n",
              "3   6.130005  ...                                  NaN\n",
              "4   5.900100  ...                                  NaN\n",
              "\n",
              "[5 rows x 14 columns]"
            ]
          },
          "metadata": {
            "tags": []
          },
          "execution_count": 210
        }
      ]
    },
    {
      "cell_type": "code",
      "metadata": {
        "colab": {
          "base_uri": "https://localhost:8080/"
        },
        "id": "xF6aJsEOjPrg",
        "outputId": "0f5598fe-e167-4775-8531-60da051bffee"
      },
      "source": [
        "df.columns"
      ],
      "execution_count": null,
      "outputs": [
        {
          "output_type": "execute_result",
          "data": {
            "text/plain": [
              "Index(['Code', 'Date', 'Unnamed: 2', 'age(months)', 'gender(0-male,1-female)',\n",
              "       'vineland score', 'subdomain1 score', 'subdomain2 score',\n",
              "       'subdomain3 score', 'Target area code 1', 'Target area code 1 score',\n",
              "       'Target area code 2 score', 'days to mastery target area code 1',\n",
              "       'days to mastery target area code 1.1'],\n",
              "      dtype='object')"
            ]
          },
          "metadata": {
            "tags": []
          },
          "execution_count": 211
        }
      ]
    },
    {
      "cell_type": "code",
      "metadata": {
        "id": "7b_0k3w6g0sE",
        "colab": {
          "base_uri": "https://localhost:8080/",
          "height": 238
        },
        "outputId": "d4446703-5aae-42a4-f61e-8d17c2e4d2d2"
      },
      "source": [
        "df[['gender(0-male,1-female)','Target area code 1','Code','age(months)','vineland score','subdomain1 score','subdomain2 score']].head()"
      ],
      "execution_count": null,
      "outputs": [
        {
          "output_type": "execute_result",
          "data": {
            "text/html": [
              "<div>\n",
              "<style scoped>\n",
              "    .dataframe tbody tr th:only-of-type {\n",
              "        vertical-align: middle;\n",
              "    }\n",
              "\n",
              "    .dataframe tbody tr th {\n",
              "        vertical-align: top;\n",
              "    }\n",
              "\n",
              "    .dataframe thead th {\n",
              "        text-align: right;\n",
              "    }\n",
              "</style>\n",
              "<table border=\"1\" class=\"dataframe\">\n",
              "  <thead>\n",
              "    <tr style=\"text-align: right;\">\n",
              "      <th></th>\n",
              "      <th>gender(0-male,1-female)</th>\n",
              "      <th>Target area code 1</th>\n",
              "      <th>Code</th>\n",
              "      <th>age(months)</th>\n",
              "      <th>vineland score</th>\n",
              "      <th>subdomain1 score</th>\n",
              "      <th>subdomain2 score</th>\n",
              "    </tr>\n",
              "  </thead>\n",
              "  <tbody>\n",
              "    <tr>\n",
              "      <th>0</th>\n",
              "      <td>1</td>\n",
              "      <td>11.10</td>\n",
              "      <td>11.100030</td>\n",
              "      <td>79</td>\n",
              "      <td>0</td>\n",
              "      <td>10</td>\n",
              "      <td>9</td>\n",
              "    </tr>\n",
              "    <tr>\n",
              "      <th>1</th>\n",
              "      <td>1</td>\n",
              "      <td>1.10</td>\n",
              "      <td>1.100400</td>\n",
              "      <td>79</td>\n",
              "      <td>0</td>\n",
              "      <td>22</td>\n",
              "      <td>20</td>\n",
              "    </tr>\n",
              "    <tr>\n",
              "      <th>2</th>\n",
              "      <td>1</td>\n",
              "      <td>1.10</td>\n",
              "      <td>1.100400</td>\n",
              "      <td>79</td>\n",
              "      <td>0</td>\n",
              "      <td>22</td>\n",
              "      <td>20</td>\n",
              "    </tr>\n",
              "    <tr>\n",
              "      <th>3</th>\n",
              "      <td>1</td>\n",
              "      <td>6.11</td>\n",
              "      <td>6.130005</td>\n",
              "      <td>79</td>\n",
              "      <td>0</td>\n",
              "      <td>22</td>\n",
              "      <td>20</td>\n",
              "    </tr>\n",
              "    <tr>\n",
              "      <th>4</th>\n",
              "      <td>1</td>\n",
              "      <td>5.10</td>\n",
              "      <td>5.900100</td>\n",
              "      <td>79</td>\n",
              "      <td>0</td>\n",
              "      <td>16</td>\n",
              "      <td>14</td>\n",
              "    </tr>\n",
              "  </tbody>\n",
              "</table>\n",
              "</div>"
            ],
            "text/plain": [
              "   gender(0-male,1-female)  ...  subdomain2 score\n",
              "0                        1  ...                 9\n",
              "1                        1  ...                20\n",
              "2                        1  ...                20\n",
              "3                        1  ...                20\n",
              "4                        1  ...                14\n",
              "\n",
              "[5 rows x 7 columns]"
            ]
          },
          "metadata": {
            "tags": []
          },
          "execution_count": 212
        }
      ]
    },
    {
      "cell_type": "markdown",
      "metadata": {
        "id": "pMA42Rleka5u"
      },
      "source": [
        "<b> 1. Creating the vectors of Multivariate Data </b>"
      ]
    },
    {
      "cell_type": "code",
      "metadata": {
        "colab": {
          "base_uri": "https://localhost:8080/"
        },
        "id": "r7QjXmoPjXih",
        "outputId": "83523f21-abd8-465d-bbb7-7fa60fec8a5c"
      },
      "source": [
        "temp1 = []\n",
        "temp2 = []\n",
        "for _n in xls.sheet_names:\n",
        "  print(\"[INFO] Processing \",_n)\n",
        "  df = xls.parse(_n)\n",
        "  sub_df = df[['gender(0-male,1-female)','Target area code 1','Code','age(months)','vineland score','subdomain1 score','subdomain2 score']].copy()\n",
        "  sub_df.dropna(axis=0,inplace=True)\n",
        "  sub_df = sub_df.astype('float')\n",
        "  print(sub_df.dtypes)\n",
        "  temp1.append(sub_df.to_numpy())\n",
        "  temp2.append(sub_df['Code'])\n",
        "  print(\"\\n\\n\")"
      ],
      "execution_count": null,
      "outputs": [
        {
          "output_type": "stream",
          "text": [
            "[INFO] Processing  Natasha\n",
            "gender(0-male,1-female)    float64\n",
            "Target area code 1         float64\n",
            "Code                       float64\n",
            "age(months)                float64\n",
            "vineland score             float64\n",
            "subdomain1 score           float64\n",
            "subdomain2 score           float64\n",
            "dtype: object\n",
            "\n",
            "\n",
            "\n",
            "[INFO] Processing  Vince\n",
            "gender(0-male,1-female)    float64\n",
            "Target area code 1         float64\n",
            "Code                       float64\n",
            "age(months)                float64\n",
            "vineland score             float64\n",
            "subdomain1 score           float64\n",
            "subdomain2 score           float64\n",
            "dtype: object\n",
            "\n",
            "\n",
            "\n",
            "[INFO] Processing  Prabal\n",
            "gender(0-male,1-female)    float64\n",
            "Target area code 1         float64\n",
            "Code                       float64\n",
            "age(months)                float64\n",
            "vineland score             float64\n",
            "subdomain1 score           float64\n",
            "subdomain2 score           float64\n",
            "dtype: object\n",
            "\n",
            "\n",
            "\n",
            "[INFO] Processing  Sadat\n",
            "gender(0-male,1-female)    float64\n",
            "Target area code 1         float64\n",
            "Code                       float64\n",
            "age(months)                float64\n",
            "vineland score             float64\n",
            "subdomain1 score           float64\n",
            "subdomain2 score           float64\n",
            "dtype: object\n",
            "\n",
            "\n",
            "\n",
            "[INFO] Processing  Vidhyutkrishna\n",
            "gender(0-male,1-female)    float64\n",
            "Target area code 1         float64\n",
            "Code                       float64\n",
            "age(months)                float64\n",
            "vineland score             float64\n",
            "subdomain1 score           float64\n",
            "subdomain2 score           float64\n",
            "dtype: object\n",
            "\n",
            "\n",
            "\n",
            "[INFO] Processing  Galdamez\n",
            "gender(0-male,1-female)    float64\n",
            "Target area code 1         float64\n",
            "Code                       float64\n",
            "age(months)                float64\n",
            "vineland score             float64\n",
            "subdomain1 score           float64\n",
            "subdomain2 score           float64\n",
            "dtype: object\n",
            "\n",
            "\n",
            "\n",
            "[INFO] Processing  Adriano\n",
            "gender(0-male,1-female)    float64\n",
            "Target area code 1         float64\n",
            "Code                       float64\n",
            "age(months)                float64\n",
            "vineland score             float64\n",
            "subdomain1 score           float64\n",
            "subdomain2 score           float64\n",
            "dtype: object\n",
            "\n",
            "\n",
            "\n",
            "[INFO] Processing  Eric\n",
            "gender(0-male,1-female)    float64\n",
            "Target area code 1         float64\n",
            "Code                       float64\n",
            "age(months)                float64\n",
            "vineland score             float64\n",
            "subdomain1 score           float64\n",
            "subdomain2 score           float64\n",
            "dtype: object\n",
            "\n",
            "\n",
            "\n"
          ],
          "name": "stdout"
        }
      ]
    },
    {
      "cell_type": "code",
      "metadata": {
        "id": "KLX7JyqHl6GU"
      },
      "source": [
        "#Pre-processing for input#\n",
        "in_seq = []\n",
        "for i in temp1:\n",
        "  for j in i:\n",
        "    in_seq.append(j)"
      ],
      "execution_count": null,
      "outputs": []
    },
    {
      "cell_type": "code",
      "metadata": {
        "id": "TqLwIt3Hmj-5"
      },
      "source": [
        "#Pre-processing for output#\n",
        "out_seq = []\n",
        "import math\n",
        "for i in temp2:\n",
        "  for j in i:\n",
        "    out_seq.append((math.log(j)))"
      ],
      "execution_count": null,
      "outputs": []
    },
    {
      "cell_type": "code",
      "metadata": {
        "colab": {
          "base_uri": "https://localhost:8080/"
        },
        "id": "MUhbAWrCkYkz",
        "outputId": "46178ce7-483b-4560-9ac3-2c4a4f5edfc6"
      },
      "source": [
        "# Converting list into numpy array#\n",
        "in_seq = np.array(in_seq)\n",
        "out_seq = np.array(out_seq)\n",
        "print(in_seq.shape)\n",
        "print(out_seq.shape)"
      ],
      "execution_count": null,
      "outputs": [
        {
          "output_type": "stream",
          "text": [
            "(78, 7)\n",
            "(78,)\n"
          ],
          "name": "stdout"
        }
      ]
    },
    {
      "cell_type": "markdown",
      "metadata": {
        "id": "bKB60cWzZqlm"
      },
      "source": [
        "#### Applying Min-Max scaler\n",
        "* As the data is different for each columns"
      ]
    },
    {
      "cell_type": "code",
      "metadata": {
        "id": "91BPd9hWZqNX"
      },
      "source": [
        "from sklearn.preprocessing import quantile_transform\n",
        "scaler = MinMaxScaler()\n",
        "scaler.fit(in_seq)\n",
        "in_seq = scaler.transform(in_seq)"
      ],
      "execution_count": null,
      "outputs": []
    },
    {
      "cell_type": "code",
      "metadata": {
        "colab": {
          "base_uri": "https://localhost:8080/"
        },
        "id": "kdqBXN0hwu9c",
        "outputId": "b9d89558-33e4-4a1a-abe8-5eed9532f066"
      },
      "source": [
        "out_seq = out_seq[:,np.newaxis,np.newaxis]\n",
        "print(out_seq[0])\n"
      ],
      "execution_count": null,
      "outputs": [
        {
          "output_type": "stream",
          "text": [
            "[[2.40694781]]\n"
          ],
          "name": "stdout"
        }
      ]
    },
    {
      "cell_type": "code",
      "metadata": {
        "colab": {
          "base_uri": "https://localhost:8080/"
        },
        "id": "VAxJJiW1xK-T",
        "outputId": "9f998262-1b59-46b6-9bb8-8ed357f07a34"
      },
      "source": [
        "print(out_seq.shape)"
      ],
      "execution_count": null,
      "outputs": [
        {
          "output_type": "stream",
          "text": [
            "(78, 1, 1)\n"
          ],
          "name": "stdout"
        }
      ]
    },
    {
      "cell_type": "code",
      "metadata": {
        "colab": {
          "base_uri": "https://localhost:8080/"
        },
        "id": "uo0V5fN5yHmP",
        "outputId": "d2d45686-50d8-4795-d58b-ebb629544c91"
      },
      "source": [
        "for i in range(0,10):\n",
        "  x,y = in_seq[i],out_seq[i]\n",
        "  print('%s => %s' % (x, y))\n",
        "  print(\"\\n\")"
      ],
      "execution_count": null,
      "outputs": [
        {
          "output_type": "stream",
          "text": [
            "[1.         0.50251256 0.50185588 0.7755102  0.         0.21276596\n",
            " 0.23076923] => [[2.40694781]]\n",
            "\n",
            "\n",
            "[1.00000000e+00 0.00000000e+00 1.50557817e-05 7.75510204e-01\n",
            " 0.00000000e+00 4.68085106e-01 5.12820513e-01] => [[0.09567375]]\n",
            "\n",
            "\n",
            "[1.00000000e+00 0.00000000e+00 1.50557817e-05 7.75510204e-01\n",
            " 0.00000000e+00 4.68085106e-01 5.12820513e-01] => [[0.09567375]]\n",
            "\n",
            "\n",
            "[1.         0.25175879 0.25243051 0.7755102  0.         0.46808511\n",
            " 0.51282051] => [[1.81319557]]\n",
            "\n",
            "\n",
            "[1.         0.20100503 0.24089251 0.7755102  0.         0.34042553\n",
            " 0.35897436] => [[1.7749693]]\n",
            "\n",
            "\n",
            "[1.         0.30653266 0.16561862 0.7755102  0.         0.34042553\n",
            " 0.35897436] => [[1.48164999]]\n",
            "\n",
            "\n",
            "[1.         0.15577889 0.15558645 0.7755102  0.         0.34042553\n",
            " 0.35897436] => [[1.43515595]]\n",
            "\n",
            "\n",
            "[1.         0.30653266 0.30216502 0.79591837 0.         0.46808511\n",
            " 0.51282051] => [[1.96304957]]\n",
            "\n",
            "\n",
            "[1.         0.20100503 0.24089251 0.79591837 0.         0.34042553\n",
            " 0.35897436] => [[1.7749693]]\n",
            "\n",
            "\n",
            "[1.         0.16582915 0.16562364 0.79591837 0.         0.34042553\n",
            " 0.35897436] => [[1.48167272]]\n",
            "\n",
            "\n"
          ],
          "name": "stdout"
        }
      ]
    },
    {
      "cell_type": "markdown",
      "metadata": {
        "id": "RItyJdR1m-Dm"
      },
      "source": [
        "<b> 2. Creating Time Series Generator </b>"
      ]
    },
    {
      "cell_type": "code",
      "metadata": {
        "id": "8WeOp4nNk3cv"
      },
      "source": [
        "generator = TimeseriesGenerator(in_seq, out_seq, length=1, batch_size=1)"
      ],
      "execution_count": null,
      "outputs": []
    },
    {
      "cell_type": "code",
      "metadata": {
        "colab": {
          "base_uri": "https://localhost:8080/"
        },
        "id": "Dd-92NXQk9u9",
        "outputId": "2f55a29d-d4ec-4618-ac4b-c3ec4aec599b"
      },
      "source": [
        "# First 10 samples from generator#\n",
        "for i in range(0,10):\n",
        "\tx, y = generator[i]\n",
        "\tprint('%s => %s' % (x, y))"
      ],
      "execution_count": null,
      "outputs": [
        {
          "output_type": "stream",
          "text": [
            "[[[1.         0.50251256 0.50185588 0.7755102  0.         0.21276596\n",
            "   0.23076923]]] => [[[0.09567375]]]\n",
            "[[[1.00000000e+00 0.00000000e+00 1.50557817e-05 7.75510204e-01\n",
            "   0.00000000e+00 4.68085106e-01 5.12820513e-01]]] => [[[0.09567375]]]\n",
            "[[[1.00000000e+00 0.00000000e+00 1.50557817e-05 7.75510204e-01\n",
            "   0.00000000e+00 4.68085106e-01 5.12820513e-01]]] => [[[1.81319557]]]\n",
            "[[[1.         0.25175879 0.25243051 0.7755102  0.         0.46808511\n",
            "   0.51282051]]] => [[[1.7749693]]]\n",
            "[[[1.         0.20100503 0.24089251 0.7755102  0.         0.34042553\n",
            "   0.35897436]]] => [[[1.48164999]]]\n",
            "[[[1.         0.30653266 0.16561862 0.7755102  0.         0.34042553\n",
            "   0.35897436]]] => [[[1.43515595]]]\n",
            "[[[1.         0.15577889 0.15558645 0.7755102  0.         0.34042553\n",
            "   0.35897436]]] => [[[1.96304957]]]\n",
            "[[[1.         0.30653266 0.30216502 0.79591837 0.         0.46808511\n",
            "   0.51282051]]] => [[[1.7749693]]]\n",
            "[[[1.         0.20100503 0.24089251 0.79591837 0.         0.34042553\n",
            "   0.35897436]]] => [[[1.48167272]]]\n",
            "[[[1.         0.16582915 0.16562364 0.79591837 0.         0.34042553\n",
            "   0.35897436]]] => [[[2.84495008]]]\n"
          ],
          "name": "stdout"
        }
      ]
    },
    {
      "cell_type": "markdown",
      "metadata": {
        "id": "nQw5C1HOnY2_"
      },
      "source": [
        "<b> 3. Creating the keras model </b>"
      ]
    },
    {
      "cell_type": "code",
      "metadata": {
        "id": "OZokOg7Dnh9y"
      },
      "source": [
        "n_features = in_seq.shape[1]\n",
        "n_steps = 1"
      ],
      "execution_count": null,
      "outputs": []
    },
    {
      "cell_type": "code",
      "metadata": {
        "colab": {
          "base_uri": "https://localhost:8080/"
        },
        "id": "J3CAeRiKmtdO",
        "outputId": "976aec80-f645-4501-d556-9f7596937c58"
      },
      "source": [
        "history = History()\n",
        "# define model\n",
        "model = Sequential()\n",
        "model.add(LSTM(100, activation='tanh', return_sequences=True, input_shape=(n_steps, n_features),dropout=0.3,recurrent_dropout=0.2,bias_regularizer=L1L2(l1=0.0, l2=0.01),))\n",
        "model.add(Dropout(0.2))\n",
        "model.add(Dense(units=1))\n",
        "model.compile(optimizer='adam',loss='mse')\n",
        "model.summary()"
      ],
      "execution_count": null,
      "outputs": [
        {
          "output_type": "stream",
          "text": [
            "Model: \"sequential_11\"\n",
            "_________________________________________________________________\n",
            "Layer (type)                 Output Shape              Param #   \n",
            "=================================================================\n",
            "lstm_18 (LSTM)               (None, 1, 100)            43200     \n",
            "_________________________________________________________________\n",
            "dropout_7 (Dropout)          (None, 1, 100)            0         \n",
            "_________________________________________________________________\n",
            "dense_12 (Dense)             (None, 1, 1)              101       \n",
            "=================================================================\n",
            "Total params: 43,301\n",
            "Trainable params: 43,301\n",
            "Non-trainable params: 0\n",
            "_________________________________________________________________\n"
          ],
          "name": "stdout"
        }
      ]
    },
    {
      "cell_type": "code",
      "metadata": {
        "colab": {
          "base_uri": "https://localhost:8080/"
        },
        "id": "xRZ5ph65n0LS",
        "outputId": "9de27832-5fc6-4d7d-d65a-c657a5a90db6"
      },
      "source": [
        "reduce_lr = keras.callbacks.LearningRateScheduler(lambda x: 1e-3 * 0.90 ** x)\n",
        "model.fit_generator(generator, steps_per_epoch=1, epochs=30, verbose=0,callbacks=[history])#callbacks=[keras.callbacks.EarlyStopping(monitor='loss', min_delta=0,patience=20, verbose=1, mode='min'),history])"
      ],
      "execution_count": null,
      "outputs": [
        {
          "output_type": "execute_result",
          "data": {
            "text/plain": [
              "<tensorflow.python.keras.callbacks.History at 0x7f0bc33137b8>"
            ]
          },
          "metadata": {
            "tags": []
          },
          "execution_count": 145
        }
      ]
    },
    {
      "cell_type": "code",
      "metadata": {
        "colab": {
          "base_uri": "https://localhost:8080/"
        },
        "id": "cjalen_nPW2t",
        "outputId": "a0e8e2d7-015f-4cd3-d240-e7222261284f"
      },
      "source": [
        "model.fit_generator(generator, steps_per_epoch=1, epochs=70, verbose=0,callbacks=[history])#callbacks=[keras.callbacks.EarlyStopping(monitor='loss', min_delta=0,patience=20, verbose=1, mode='min'),history])"
      ],
      "execution_count": null,
      "outputs": [
        {
          "output_type": "execute_result",
          "data": {
            "text/plain": [
              "<tensorflow.python.keras.callbacks.History at 0x7f0bc33137b8>"
            ]
          },
          "metadata": {
            "tags": []
          },
          "execution_count": 150
        }
      ]
    },
    {
      "cell_type": "code",
      "metadata": {
        "colab": {
          "base_uri": "https://localhost:8080/"
        },
        "id": "wthCSNHSUd6L",
        "outputId": "839f2a5f-d3b1-4f5b-f064-ea4356fa7072"
      },
      "source": [
        "print(history.history['loss'][-5:])"
      ],
      "execution_count": null,
      "outputs": [
        {
          "output_type": "stream",
          "text": [
            "[1.0477242469787598, 1.2388026714324951, 1.738121747970581, 3.892974376678467, 1.7914609909057617]\n"
          ],
          "name": "stdout"
        }
      ]
    },
    {
      "cell_type": "code",
      "metadata": {
        "colab": {
          "base_uri": "https://localhost:8080/",
          "height": 302
        },
        "id": "2vZvdYGQn3Nm",
        "outputId": "eebf0b57-51cb-43fb-9434-6445aaf9580d"
      },
      "source": [
        "plt.plot(history.history['loss'])"
      ],
      "execution_count": null,
      "outputs": [
        {
          "output_type": "execute_result",
          "data": {
            "text/plain": [
              "[<matplotlib.lines.Line2D at 0x7f0bc24059b0>]"
            ]
          },
          "metadata": {
            "tags": []
          },
          "execution_count": 152
        },
        {
          "output_type": "display_data",
          "data": {
            "image/png": "[encoded data removed]",
            "text/plain": [
              "<Figure size 432x288 with 1 Axes>"
            ]
          },
          "metadata": {
            "tags": [],
            "needs_background": "light"
          }
        }
      ]
    },
    {
      "cell_type": "code",
      "metadata": {
        "colab": {
          "base_uri": "https://localhost:8080/",
          "height": 302
        },
        "id": "yyJLGtPRXq5h",
        "outputId": "598abeaf-0fae-4044-ddac-6b2f6a61c2a4"
      },
      "source": [
        "plt.plot(history.history['loss'][-100:])"
      ],
      "execution_count": null,
      "outputs": [
        {
          "output_type": "execute_result",
          "data": {
            "text/plain": [
              "[<matplotlib.lines.Line2D at 0x7f0bc23e2ba8>]"
            ]
          },
          "metadata": {
            "tags": []
          },
          "execution_count": 153
        },
        {
          "output_type": "display_data",
          "data": {
            "image/png": "[encoded data removed]",
            "text/plain": [
              "<Figure size 432x288 with 1 Axes>"
            ]
          },
          "metadata": {
            "tags": [],
            "needs_background": "light"
          }
        }
      ]
    },
    {
      "cell_type": "markdown",
      "metadata": {
        "id": "GEgTZHLom7Nr"
      },
      "source": [
        "#### Testing GRU"
      ]
    },
    {
      "cell_type": "code",
      "metadata": {
        "colab": {
          "base_uri": "https://localhost:8080/"
        },
        "id": "4-Siz9FAXtva",
        "outputId": "d3cf9375-7af1-414e-ed34-47da9cb3b59f"
      },
      "source": [
        "history = History()\n",
        "# define model\n",
        "model = Sequential()\n",
        "model.add(GRU(100, activation='tanh', return_sequences=True, input_shape=(n_steps, n_features),dropout=0.3,recurrent_dropout=0.2,bias_regularizer=L1L2(l1=0.0, l2=0.01),))\n",
        "model.add(Dropout(0.2))\n",
        "model.add(Dense(units=1))\n",
        "model.compile(optimizer='adam',loss='mse')\n",
        "model.summary()"
      ],
      "execution_count": null,
      "outputs": [
        {
          "output_type": "stream",
          "text": [
            "Model: \"sequential_12\"\n",
            "_________________________________________________________________\n",
            "Layer (type)                 Output Shape              Param #   \n",
            "=================================================================\n",
            "gru_1 (GRU)                  (None, 1, 100)            32700     \n",
            "_________________________________________________________________\n",
            "dropout_8 (Dropout)          (None, 1, 100)            0         \n",
            "_________________________________________________________________\n",
            "dense_13 (Dense)             (None, 1, 1)              101       \n",
            "=================================================================\n",
            "Total params: 32,801\n",
            "Trainable params: 32,801\n",
            "Non-trainable params: 0\n",
            "_________________________________________________________________\n"
          ],
          "name": "stdout"
        }
      ]
    },
    {
      "cell_type": "code",
      "metadata": {
        "colab": {
          "base_uri": "https://localhost:8080/"
        },
        "id": "MIbsP90ZXtvc",
        "outputId": "ae39f308-6d6e-44a9-b8d2-0696aaf50c17"
      },
      "source": [
        "reduce_lr = keras.callbacks.LearningRateScheduler(lambda x: 1e-3 * 0.90 ** x)\n",
        "model.fit_generator(generator, steps_per_epoch=1, epochs=30, verbose=0,callbacks=[history])#callbacks=[keras.callbacks.EarlyStopping(monitor='loss', min_delta=0,patience=20, verbose=1, mode='min'),history])"
      ],
      "execution_count": null,
      "outputs": [
        {
          "output_type": "execute_result",
          "data": {
            "text/plain": [
              "<tensorflow.python.keras.callbacks.History at 0x7f0bc2434438>"
            ]
          },
          "metadata": {
            "tags": []
          },
          "execution_count": 155
        }
      ]
    },
    {
      "cell_type": "code",
      "metadata": {
        "colab": {
          "base_uri": "https://localhost:8080/"
        },
        "id": "L8Le06o6Xtvc",
        "outputId": "7231b6bc-74d2-4a15-bf8b-1fd06243f27b"
      },
      "source": [
        "model.fit_generator(generator, steps_per_epoch=1, epochs=70, verbose=0,callbacks=[history])#callbacks=[keras.callbacks.EarlyStopping(monitor='loss', min_delta=0,patience=20, verbose=1, mode='min'),history])"
      ],
      "execution_count": null,
      "outputs": [
        {
          "output_type": "execute_result",
          "data": {
            "text/plain": [
              "<tensorflow.python.keras.callbacks.History at 0x7f0bc2434438>"
            ]
          },
          "metadata": {
            "tags": []
          },
          "execution_count": 156
        }
      ]
    },
    {
      "cell_type": "code",
      "metadata": {
        "colab": {
          "base_uri": "https://localhost:8080/"
        },
        "id": "C8SZ8gtzXtvd",
        "outputId": "eec84662-f4f0-4b38-819a-98683cb564f0"
      },
      "source": [
        "print(history.history['loss'][-5:])"
      ],
      "execution_count": null,
      "outputs": [
        {
          "output_type": "stream",
          "text": [
            "[0.16680411994457245, 0.20375028252601624, 0.26585984230041504, 2.686875581741333, 0.34418097138404846]\n"
          ],
          "name": "stdout"
        }
      ]
    },
    {
      "cell_type": "code",
      "metadata": {
        "colab": {
          "base_uri": "https://localhost:8080/",
          "height": 305
        },
        "id": "HEtX0H-JXtvd",
        "outputId": "c353c0bf-89ac-486b-df80-b040866a1905"
      },
      "source": [
        "plt.plot(history.history['loss'])"
      ],
      "execution_count": null,
      "outputs": [
        {
          "output_type": "execute_result",
          "data": {
            "text/plain": [
              "[<matplotlib.lines.Line2D at 0x7f0bc15c8ba8>]"
            ]
          },
          "metadata": {
            "tags": []
          },
          "execution_count": 158
        },
        {
          "output_type": "display_data",
          "data": {
            "image/png": "[encoded data removed]",
            "text/plain": [
              "<Figure size 432x288 with 1 Axes>"
            ]
          },
          "metadata": {
            "tags": [],
            "needs_background": "light"
          }
        }
      ]
    },
    {
      "cell_type": "code",
      "metadata": {
        "colab": {
          "base_uri": "https://localhost:8080/",
          "height": 305
        },
        "id": "n_R0p2yIoCJP",
        "outputId": "092dff2f-33e7-4008-b577-37f8798c00c4"
      },
      "source": [
        "plt.plot(history.history['loss'][-100:])"
      ],
      "execution_count": null,
      "outputs": [
        {
          "output_type": "execute_result",
          "data": {
            "text/plain": [
              "[<matplotlib.lines.Line2D at 0x7f0bc15306a0>]"
            ]
          },
          "metadata": {
            "tags": []
          },
          "execution_count": 159
        },
        {
          "output_type": "display_data",
          "data": {
            "image/png": "[encoded data removed]",
            "text/plain": [
              "<Figure size 432x288 with 1 Axes>"
            ]
          },
          "metadata": {
            "tags": [],
            "needs_background": "light"
          }
        }
      ]
    },
    {
      "cell_type": "markdown",
      "metadata": {
        "id": "T1xdtlDPUuRH"
      },
      "source": [
        "<b> Bi-Directional LSTM"
      ]
    },
    {
      "cell_type": "code",
      "metadata": {
        "colab": {
          "base_uri": "https://localhost:8080/"
        },
        "id": "kksZaOZ8UwgK",
        "outputId": "47b40951-ff89-4c1b-e2fe-c29111d61f04"
      },
      "source": [
        "history = History()\n",
        "# define model\n",
        "model = Sequential()\n",
        "model.add(Bidirectional(LSTM(100, activation='tanh', return_sequences=True), input_shape=(n_steps, n_features)))\n",
        "model.add(Dropout(0.2))\n",
        "model.add(Dense(units=1))\n",
        "model.compile(optimizer='adam',loss='mse')\n",
        "model.summary()"
      ],
      "execution_count": null,
      "outputs": [
        {
          "output_type": "stream",
          "text": [
            "Model: \"sequential_18\"\n",
            "_________________________________________________________________\n",
            "Layer (type)                 Output Shape              Param #   \n",
            "=================================================================\n",
            "bidirectional_1 (Bidirection (None, 1, 200)            86400     \n",
            "_________________________________________________________________\n",
            "dropout_10 (Dropout)         (None, 1, 200)            0         \n",
            "_________________________________________________________________\n",
            "dense_16 (Dense)             (None, 1, 1)              201       \n",
            "=================================================================\n",
            "Total params: 86,601\n",
            "Trainable params: 86,601\n",
            "Non-trainable params: 0\n",
            "_________________________________________________________________\n"
          ],
          "name": "stdout"
        }
      ]
    },
    {
      "cell_type": "code",
      "metadata": {
        "colab": {
          "base_uri": "https://localhost:8080/"
        },
        "id": "bbp3EYUzVgDK",
        "outputId": "98e6201d-b0c7-484b-adfa-6ad2d246db33"
      },
      "source": [
        "reduce_lr = keras.callbacks.LearningRateScheduler(lambda x: 1e-3 * 0.90 ** x)\n",
        "model.fit_generator(generator, steps_per_epoch=1, epochs=30, verbose=0,callbacks=[history])#callbacks=[keras.callbacks.EarlyStopping(monitor='loss', min_delta=0,patience=20, verbose=1, mode='min'),history])"
      ],
      "execution_count": null,
      "outputs": [
        {
          "output_type": "execute_result",
          "data": {
            "text/plain": [
              "<tensorflow.python.keras.callbacks.History at 0x7f0bb38afd30>"
            ]
          },
          "metadata": {
            "tags": []
          },
          "execution_count": 236
        }
      ]
    },
    {
      "cell_type": "code",
      "metadata": {
        "colab": {
          "base_uri": "https://localhost:8080/"
        },
        "id": "n-uXqY5LVgDN",
        "outputId": "1eaf2a0d-4018-44f4-e2ae-fde445983516"
      },
      "source": [
        "model.fit_generator(generator, steps_per_epoch=1, epochs=70, verbose=0,callbacks=[history])#callbacks=[keras.callbacks.EarlyStopping(monitor='loss', min_delta=0,patience=20, verbose=1, mode='min'),history])"
      ],
      "execution_count": null,
      "outputs": [
        {
          "output_type": "execute_result",
          "data": {
            "text/plain": [
              "<tensorflow.python.keras.callbacks.History at 0x7f0bb38afd30>"
            ]
          },
          "metadata": {
            "tags": []
          },
          "execution_count": 240
        }
      ]
    },
    {
      "cell_type": "code",
      "metadata": {
        "colab": {
          "base_uri": "https://localhost:8080/"
        },
        "id": "0dk38nvkVgDO",
        "outputId": "37786edb-65f0-42a2-9cbc-b1d45292308e"
      },
      "source": [
        "print(history.history['loss'][-5:])"
      ],
      "execution_count": null,
      "outputs": [
        {
          "output_type": "stream",
          "text": [
            "[0.02573176473379135, 0.7260339856147766, 0.2889731824398041, 0.05417386442422867, 0.19585952162742615]\n"
          ],
          "name": "stdout"
        }
      ]
    },
    {
      "cell_type": "code",
      "metadata": {
        "colab": {
          "base_uri": "https://localhost:8080/",
          "height": 302
        },
        "id": "rairGIApVgDO",
        "outputId": "d4e69e42-1d92-4916-e895-34627abc8fc6"
      },
      "source": [
        "plt.plot(history.history['loss'])"
      ],
      "execution_count": null,
      "outputs": [
        {
          "output_type": "execute_result",
          "data": {
            "text/plain": [
              "[<matplotlib.lines.Line2D at 0x7f0bb27d5c18>]"
            ]
          },
          "metadata": {
            "tags": []
          },
          "execution_count": 242
        },
        {
          "output_type": "display_data",
          "data": {
            "image/png": "[encoded data removed]",
            "text/plain": [
              "<Figure size 432x288 with 1 Axes>"
            ]
          },
          "metadata": {
            "tags": [],
            "needs_background": "light"
          }
        }
      ]
    },
    {
      "cell_type": "code",
      "metadata": {
        "colab": {
          "base_uri": "https://localhost:8080/",
          "height": 302
        },
        "id": "JPDHE-m9VgDO",
        "outputId": "6dd3947d-292e-44cb-a145-45295dd64e85"
      },
      "source": [
        "plt.plot(history.history['loss'][-100:])"
      ],
      "execution_count": null,
      "outputs": [
        {
          "output_type": "execute_result",
          "data": {
            "text/plain": [
              "[<matplotlib.lines.Line2D at 0x7f0bb273b438>]"
            ]
          },
          "metadata": {
            "tags": []
          },
          "execution_count": 243
        },
        {
          "output_type": "display_data",
          "data": {
            "image/png": "[encoded data removed]",
            "text/plain": [
              "<Figure size 432x288 with 1 Axes>"
            ]
          },
          "metadata": {
            "tags": [],
            "needs_background": "light"
          }
        }
      ]
    },
    {
      "cell_type": "markdown",
      "metadata": {
        "id": "70Ls4AhVnCJR"
      },
      "source": [
        "### Auto-Encoders"
      ]
    },
    {
      "cell_type": "code",
      "metadata": {
        "id": "DZ3RUw5Uu18U",
        "colab": {
          "base_uri": "https://localhost:8080/"
        },
        "outputId": "10d669ec-b817-4a24-f020-f308db1e5e95"
      },
      "source": [
        "from keras.layers import RepeatVector\n",
        "from keras.layers import TimeDistributed\n",
        "history = History()\n",
        "model = Sequential()\n",
        "model.add(LSTM(100, activation='tanh', input_shape=(n_steps, n_features)))\n",
        "model.add(RepeatVector(n_steps))\n",
        "model.add(LSTM(100, activation='tanh', return_sequences=True))\n",
        "model.add(TimeDistributed(Dense(1)))\n",
        "model.compile(optimizer='adam', loss='mse')\n",
        "# fit model\n",
        "model.fit_generator(generator, steps_per_epoch=1, epochs=500, verbose=0,callbacks=[history])"
      ],
      "execution_count": null,
      "outputs": [
        {
          "output_type": "execute_result",
          "data": {
            "text/plain": [
              "<tensorflow.python.keras.callbacks.History at 0x7f0bc14f8390>"
            ]
          },
          "metadata": {
            "tags": []
          },
          "execution_count": 160
        }
      ]
    },
    {
      "cell_type": "code",
      "metadata": {
        "colab": {
          "base_uri": "https://localhost:8080/",
          "height": 302
        },
        "id": "QACr3nLZKdkt",
        "outputId": "542008fe-a3da-4d6f-fcac-50fcc8f7d050"
      },
      "source": [
        "plt.plot(history.history['loss'])"
      ],
      "execution_count": null,
      "outputs": [
        {
          "output_type": "execute_result",
          "data": {
            "text/plain": [
              "[<matplotlib.lines.Line2D at 0x7f0bc0556240>]"
            ]
          },
          "metadata": {
            "tags": []
          },
          "execution_count": 161
        },
        {
          "output_type": "display_data",
          "data": {
            "image/png": "[encoded data removed]",
            "text/plain": [
              "<Figure size 432x288 with 1 Axes>"
            ]
          },
          "metadata": {
            "tags": [],
            "needs_background": "light"
          }
        }
      ]
    },
    {
      "cell_type": "code",
      "metadata": {
        "colab": {
          "base_uri": "https://localhost:8080/",
          "height": 302
        },
        "id": "tNYLGl-ilF8Y",
        "outputId": "d4b1acd6-e1d1-4259-e21b-1126bcd9fb16"
      },
      "source": [
        "plt.plot(history.history['loss'][-90:-10])"
      ],
      "execution_count": null,
      "outputs": [
        {
          "output_type": "execute_result",
          "data": {
            "text/plain": [
              "[<matplotlib.lines.Line2D at 0x7f0bc03f1588>]"
            ]
          },
          "metadata": {
            "tags": []
          },
          "execution_count": 164
        },
        {
          "output_type": "display_data",
          "data": {
            "image/png": "[encoded data removed]",
            "text/plain": [
              "<Figure size 432x288 with 1 Axes>"
            ]
          },
          "metadata": {
            "tags": [],
            "needs_background": "light"
          }
        }
      ]
    },
    {
      "cell_type": "markdown",
      "metadata": {
        "id": "LxT8cn1poRq2"
      },
      "source": [
        "#### Random Forest "
      ]
    },
    {
      "cell_type": "markdown",
      "metadata": {
        "id": "fmjBGnI77yex"
      },
      "source": [
        "<b> Using log </b>"
      ]
    },
    {
      "cell_type": "code",
      "metadata": {
        "id": "wLz2LoEFS1EK",
        "colab": {
          "base_uri": "https://localhost:8080/"
        },
        "outputId": "ebecbc54-31be-492b-f5c2-1ab4897de3c1"
      },
      "source": [
        "from sklearn.ensemble import RandomForestRegressor\n",
        "model = RandomForestRegressor(n_estimators=1000)\n",
        "model.fit(in_seq,np.squeeze(out_seq))"
      ],
      "execution_count": null,
      "outputs": [
        {
          "output_type": "execute_result",
          "data": {
            "text/plain": [
              "RandomForestRegressor(bootstrap=True, ccp_alpha=0.0, criterion='mse',\n",
              "                      max_depth=None, max_features='auto', max_leaf_nodes=None,\n",
              "                      max_samples=None, min_impurity_decrease=0.0,\n",
              "                      min_impurity_split=None, min_samples_leaf=1,\n",
              "                      min_samples_split=2, min_weight_fraction_leaf=0.0,\n",
              "                      n_estimators=1000, n_jobs=None, oob_score=False,\n",
              "                      random_state=None, verbose=0, warm_start=False)"
            ]
          },
          "metadata": {
            "tags": []
          },
          "execution_count": 170
        }
      ]
    },
    {
      "cell_type": "code",
      "metadata": {
        "id": "t2Q2jE-Ous7x"
      },
      "source": [
        "yhat = model.predict(in_seq)"
      ],
      "execution_count": null,
      "outputs": []
    },
    {
      "cell_type": "code",
      "metadata": {
        "colab": {
          "base_uri": "https://localhost:8080/"
        },
        "id": "ZQ-Lml5Ivfac",
        "outputId": "088e4fa9-cf06-4043-c1da-deff7bf5392c"
      },
      "source": [
        "from sklearn.metrics import mean_squared_error\n",
        "mean_squared_error(np.squeeze(out_seq),yhat)"
      ],
      "execution_count": null,
      "outputs": [
        {
          "output_type": "execute_result",
          "data": {
            "text/plain": [
              "0.00038377110551082554"
            ]
          },
          "metadata": {
            "tags": []
          },
          "execution_count": 174
        }
      ]
    },
    {
      "cell_type": "markdown",
      "metadata": {
        "id": "Or0sdRsR73PW"
      },
      "source": [
        "<b> Without log </b>"
      ]
    },
    {
      "cell_type": "code",
      "metadata": {
        "colab": {
          "base_uri": "https://localhost:8080/"
        },
        "id": "t5PE6TyN78d2",
        "outputId": "0334dbc2-1e0b-426a-f50d-9722f671eff6"
      },
      "source": [
        "from sklearn.ensemble import RandomForestRegressor\n",
        "model = RandomForestRegressor(n_estimators=1000)\n",
        "model.fit(in_seq,np.squeeze(out_seq))"
      ],
      "execution_count": null,
      "outputs": [
        {
          "output_type": "execute_result",
          "data": {
            "text/plain": [
              "RandomForestRegressor(bootstrap=True, ccp_alpha=0.0, criterion='mse',\n",
              "                      max_depth=None, max_features='auto', max_leaf_nodes=None,\n",
              "                      max_samples=None, min_impurity_decrease=0.0,\n",
              "                      min_impurity_split=None, min_samples_leaf=1,\n",
              "                      min_samples_split=2, min_weight_fraction_leaf=0.0,\n",
              "                      n_estimators=1000, n_jobs=None, oob_score=False,\n",
              "                      random_state=None, verbose=0, warm_start=False)"
            ]
          },
          "metadata": {
            "tags": []
          },
          "execution_count": 189
        }
      ]
    },
    {
      "cell_type": "code",
      "metadata": {
        "id": "cla6zmAJ78d3"
      },
      "source": [
        "yhat = model.predict(in_seq)"
      ],
      "execution_count": null,
      "outputs": []
    },
    {
      "cell_type": "code",
      "metadata": {
        "colab": {
          "base_uri": "https://localhost:8080/"
        },
        "id": "gYfzYDWG78d4",
        "outputId": "037759b6-ec89-41cc-f775-123298e0a7c8"
      },
      "source": [
        "from sklearn.metrics import mean_squared_error\n",
        "mean_squared_error(np.squeeze(out_seq),yhat)"
      ],
      "execution_count": null,
      "outputs": [
        {
          "output_type": "execute_result",
          "data": {
            "text/plain": [
              "0.004938007985269754"
            ]
          },
          "metadata": {
            "tags": []
          },
          "execution_count": 191
        }
      ]
    },
    {
      "cell_type": "markdown",
      "metadata": {
        "id": "IBhnnNIa6O6S"
      },
      "source": [
        "### XGBoost"
      ]
    },
    {
      "cell_type": "markdown",
      "metadata": {
        "id": "uKH3_cxs82Tn"
      },
      "source": [
        "<b> With Log </b>"
      ]
    },
    {
      "cell_type": "code",
      "metadata": {
        "id": "V7WYr0RM84w-"
      },
      "source": [
        "import xgboost as xg "
      ],
      "execution_count": null,
      "outputs": []
    },
    {
      "cell_type": "code",
      "metadata": {
        "id": "DnyoRBUo84w_"
      },
      "source": [
        "xgb_r =xg.XGBRegressor(max_depth=120,learning_rate=0.3466660346275105,n_estimators=76,objective='reg:squarederror',gamma=0.01844254353769151,base_score=0.5782829704568522)"
      ],
      "execution_count": null,
      "outputs": []
    },
    {
      "cell_type": "code",
      "metadata": {
        "colab": {
          "base_uri": "https://localhost:8080/"
        },
        "id": "1-nCjY8t84xA",
        "outputId": "ad76e5e5-7bfe-4f23-977d-80ce080285fe"
      },
      "source": [
        "xgb_r.fit(in_seq, np.squeeze(out_seq)) "
      ],
      "execution_count": null,
      "outputs": [
        {
          "output_type": "execute_result",
          "data": {
            "text/plain": [
              "XGBRegressor(base_score=0.5782829704568522, booster='gbtree',\n",
              "             colsample_bylevel=1, colsample_bynode=1, colsample_bytree=1,\n",
              "             gamma=0.01844254353769151, importance_type='gain',\n",
              "             learning_rate=0.3466660346275105, max_delta_step=0, max_depth=120,\n",
              "             min_child_weight=1, missing=None, n_estimators=76, n_jobs=1,\n",
              "             nthread=None, objective='reg:squarederror', random_state=0,\n",
              "             reg_alpha=0, reg_lambda=1, scale_pos_weight=1, seed=None,\n",
              "             silent=None, subsample=1, verbosity=1)"
            ]
          },
          "metadata": {
            "tags": []
          },
          "execution_count": 225
        }
      ]
    },
    {
      "cell_type": "code",
      "metadata": {
        "id": "9gw3lGYo84xA"
      },
      "source": [
        "yhat = xgb_r.predict(in_seq)"
      ],
      "execution_count": null,
      "outputs": []
    },
    {
      "cell_type": "code",
      "metadata": {
        "colab": {
          "base_uri": "https://localhost:8080/"
        },
        "id": "FFwrrhwY84xB",
        "outputId": "85f2f042-6812-4cbf-bbb0-cd30ee7b1d69"
      },
      "source": [
        "from sklearn.metrics import mean_squared_error\n",
        "mean_squared_error(np.squeeze(out_seq),yhat)"
      ],
      "execution_count": null,
      "outputs": [
        {
          "output_type": "execute_result",
          "data": {
            "text/plain": [
              "0.0008294469488079045"
            ]
          },
          "metadata": {
            "tags": []
          },
          "execution_count": 227
        }
      ]
    },
    {
      "cell_type": "markdown",
      "metadata": {
        "id": "gyQ2HT_N8wCt"
      },
      "source": [
        "<b> Without Log </b>"
      ]
    },
    {
      "cell_type": "code",
      "metadata": {
        "id": "hs_t3IYE4Uh6"
      },
      "source": [
        "!pip install xgboost"
      ],
      "execution_count": null,
      "outputs": []
    },
    {
      "cell_type": "code",
      "metadata": {
        "id": "W42rruln8a1q"
      },
      "source": [
        "import xgboost as xg "
      ],
      "execution_count": null,
      "outputs": []
    },
    {
      "cell_type": "code",
      "metadata": {
        "id": "at4qVJB98f3w"
      },
      "source": [
        "xgb_r =xg.XGBRegressor(max_depth=120,learning_rate=0.3466660346275105,n_estimators=76,objective='reg:squarederror',gamma=0.01844254353769151,base_score=0.5782829704568522)"
      ],
      "execution_count": null,
      "outputs": []
    },
    {
      "cell_type": "code",
      "metadata": {
        "colab": {
          "base_uri": "https://localhost:8080/"
        },
        "id": "ua1Vnynu8hsm",
        "outputId": "6f8b8dfd-c515-49cb-b772-1be290b9ba89"
      },
      "source": [
        "xgb_r.fit(in_seq, np.squeeze(out_seq)) "
      ],
      "execution_count": null,
      "outputs": [
        {
          "output_type": "execute_result",
          "data": {
            "text/plain": [
              "XGBRegressor(base_score=0.5782829704568522, booster='gbtree',\n",
              "             colsample_bylevel=1, colsample_bynode=1, colsample_bytree=1,\n",
              "             gamma=0.01844254353769151, importance_type='gain',\n",
              "             learning_rate=0.3466660346275105, max_delta_step=0, max_depth=120,\n",
              "             min_child_weight=1, missing=None, n_estimators=76, n_jobs=1,\n",
              "             nthread=None, objective='reg:squarederror', random_state=0,\n",
              "             reg_alpha=0, reg_lambda=1, scale_pos_weight=1, seed=None,\n",
              "             silent=None, subsample=1, verbosity=1)"
            ]
          },
          "metadata": {
            "tags": []
          },
          "execution_count": 195
        }
      ]
    },
    {
      "cell_type": "code",
      "metadata": {
        "id": "swTp7FmJ8oTE"
      },
      "source": [
        "yhat = xgb_r.predict(in_seq)"
      ],
      "execution_count": null,
      "outputs": []
    },
    {
      "cell_type": "code",
      "metadata": {
        "colab": {
          "base_uri": "https://localhost:8080/"
        },
        "id": "woDJ4Dy-8slD",
        "outputId": "14448d6c-848c-4f7b-889c-1a4732f5f192"
      },
      "source": [
        "from sklearn.metrics import mean_squared_error\n",
        "mean_squared_error(np.squeeze(out_seq),yhat)"
      ],
      "execution_count": null,
      "outputs": [
        {
          "output_type": "execute_result",
          "data": {
            "text/plain": [
              "0.0022066470775980083"
            ]
          },
          "metadata": {
            "tags": []
          },
          "execution_count": 197
        }
      ]
    },
    {
      "cell_type": "code",
      "metadata": {
        "id": "SmSlrS2r8t_4"
      },
      "source": [
        ""
      ],
      "execution_count": null,
      "outputs": []
    }
  ]
}